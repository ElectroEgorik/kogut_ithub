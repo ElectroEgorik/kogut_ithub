{
 "cells": [
  {
   "cell_type": "code",
   "execution_count": 3,
   "id": "53f08685-fe22-4276-be94-625de1d63bb4",
   "metadata": {},
   "outputs": [
    {
     "name": "stdout",
     "output_type": "stream",
     "text": [
      "Requirement already satisfied: pandas in /opt/conda/lib/python3.11/site-packages (2.0.3)\n",
      "Collecting hdfs\n",
      "  Using cached hdfs-2.7.3-py3-none-any.whl\n",
      "Requirement already satisfied: python-dateutil>=2.8.2 in /opt/conda/lib/python3.11/site-packages (from pandas) (2.8.2)\n",
      "Requirement already satisfied: pytz>=2020.1 in /opt/conda/lib/python3.11/site-packages (from pandas) (2023.3.post1)\n",
      "Requirement already satisfied: tzdata>=2022.1 in /opt/conda/lib/python3.11/site-packages (from pandas) (2023.3)\n",
      "Requirement already satisfied: numpy>=1.21.0 in /opt/conda/lib/python3.11/site-packages (from pandas) (1.24.4)\n",
      "Collecting docopt (from hdfs)\n",
      "  Using cached docopt-0.6.2-py2.py3-none-any.whl\n",
      "Requirement already satisfied: requests>=2.7.0 in /opt/conda/lib/python3.11/site-packages (from hdfs) (2.31.0)\n",
      "Requirement already satisfied: six>=1.9.0 in /opt/conda/lib/python3.11/site-packages (from hdfs) (1.16.0)\n",
      "Requirement already satisfied: charset-normalizer<4,>=2 in /opt/conda/lib/python3.11/site-packages (from requests>=2.7.0->hdfs) (3.3.0)\n",
      "Requirement already satisfied: idna<4,>=2.5 in /opt/conda/lib/python3.11/site-packages (from requests>=2.7.0->hdfs) (3.4)\n",
      "Requirement already satisfied: urllib3<3,>=1.21.1 in /opt/conda/lib/python3.11/site-packages (from requests>=2.7.0->hdfs) (2.0.7)\n",
      "Requirement already satisfied: certifi>=2017.4.17 in /opt/conda/lib/python3.11/site-packages (from requests>=2.7.0->hdfs) (2023.7.22)\n",
      "Installing collected packages: docopt, hdfs\n",
      "Successfully installed docopt-0.6.2 hdfs-2.7.3\n"
     ]
    }
   ],
   "source": [
    "!pip install pandas hdfs"
   ]
  },
  {
   "cell_type": "code",
   "execution_count": 4,
   "id": "3130b842-2bb5-4672-928a-fef5443f0531",
   "metadata": {},
   "outputs": [
    {
     "name": "stdout",
     "output_type": "stream",
     "text": [
      "Данные загружены в HDFS по пути /jupiter/kt5/cleaned_data.csv\n"
     ]
    },
    {
     "name": "stderr",
     "output_type": "stream",
     "text": [
      "Exception ignored in atexit callback: <bound method InteractiveShell.atexit_operations of <ipykernel.zmqshell.ZMQInteractiveShell object at 0x7f2819474690>>\n",
      "Traceback (most recent call last):\n",
      "  File \"/opt/conda/lib/python3.11/site-packages/IPython/core/interactiveshell.py\", line 3893, in atexit_operations\n",
      "    self._atexit_once()\n",
      "  File \"/opt/conda/lib/python3.11/site-packages/IPython/core/interactiveshell.py\", line 3876, in _atexit_once\n",
      "    self.history_manager.end_session()\n",
      "  File \"/opt/conda/lib/python3.11/site-packages/IPython/core/history.py\", line 585, in end_session\n",
      "    self.db.execute(\n",
      "sqlite3.OperationalError: disk I/O error\n"
     ]
    }
   ],
   "source": [
    "import pandas as pd\n",
    "from hdfs import InsecureClient\n",
    "\n",
    "# Настройки HDFS\n",
    "hdfs_url = \"http://namenode:9870\"\n",
    "hdfs_user = \"root\"\n",
    "hdfs_path = \"/jupiter/kt5/cleaned_data.csv\"\n",
    "\n",
    "# Локальный CSV\n",
    "local_csv = \"file:///home/jovyan/kt5/data.csv\"\n",
    "\n",
    "# 1. Загрузка CSV\n",
    "df = pd.read_csv(local_csv)\n",
    "\n",
    "# 2. Очистка данных\n",
    "df.dropna(inplace=True)        # Удаляем пустые строки\n",
    "df.drop_duplicates(inplace=True)  # Удаляем дубликаты\n",
    "\n",
    "# 3. Подключение к HDFS и загрузка\n",
    "client = InsecureClient(hdfs_url, user=hdfs_user)\n",
    "with client.write(hdfs_path, encoding='utf-8', overwrite=True) as writer:\n",
    "    df.to_csv(writer, index=False)\n",
    "\n",
    "print(f\"Данные загружены в HDFS по пути {hdfs_path}\")\n"
   ]
  },
  {
   "cell_type": "code",
   "execution_count": 16,
   "id": "9ac313ce-e627-4dcc-96bb-fa4de0c80151",
   "metadata": {},
   "outputs": [],
   "source": [
    "!chmod +x ./setup_cron.sh"
   ]
  },
  {
   "cell_type": "code",
   "execution_count": 17,
   "id": "cb19ec83-e926-494a-a75f-d644f329c816",
   "metadata": {},
   "outputs": [
    {
     "name": "stdout",
     "output_type": "stream",
     "text": [
      "./setup_cron.sh: line 16: crontab: command not found\n",
      "./setup_cron.sh: line 16: echo: write error: Broken pipe\n",
      "Cron-задача добавлена.\n"
     ]
    }
   ],
   "source": [
    "!./setup_cron.sh"
   ]
  },
  {
   "cell_type": "code",
   "execution_count": 19,
   "id": "5313580f-2f90-4092-90ec-2e24b4135f8c",
   "metadata": {},
   "outputs": [
    {
     "name": "stdout",
     "output_type": "stream",
     "text": [
      "[sudo] password for jovyan: \n"
     ]
    }
   ],
   "source": [
    "!sudo apt-get install crontab"
   ]
  }
 ],
 "metadata": {
  "kernelspec": {
   "display_name": "Python 3 (ipykernel)",
   "language": "python",
   "name": "python3"
  },
  "language_info": {
   "codemirror_mode": {
    "name": "ipython",
    "version": 3
   },
   "file_extension": ".py",
   "mimetype": "text/x-python",
   "name": "python",
   "nbconvert_exporter": "python",
   "pygments_lexer": "ipython3",
   "version": "3.11.6"
  }
 },
 "nbformat": 4,
 "nbformat_minor": 5
}
