{
 "cells": [
  {
   "cell_type": "code",
   "execution_count": 7,
   "id": "50e4f478-d587-4769-9d0b-2f676ac36af7",
   "metadata": {},
   "outputs": [
    {
     "name": "stdout",
     "output_type": "stream",
     "text": [
      "+------+------+\n",
      "|status|   cnt|\n",
      "+------+------+\n",
      "|   500|143467|\n",
      "|   404|142938|\n",
      "|   303|142821|\n",
      "|   502|142793|\n",
      "|   403|142697|\n",
      "|   200|142653|\n",
      "|   304|142631|\n",
      "+------+------+\n",
      "\n",
      "+--------------------+------+\n",
      "|                path|  hits|\n",
      "+--------------------+------+\n",
      "|/usr/admin/developer|200224|\n",
      "|       /usr/register|200099|\n",
      "|          /usr/login|200040|\n",
      "|          /usr/admin|199881|\n",
      "|                /usr|199756|\n",
      "+--------------------+------+\n",
      "\n"
     ]
    }
   ],
   "source": [
    "from pyspark.sql import SparkSession\n",
    "from pyspark.sql.functions import regexp_extract, col\n",
    "\n",
    "\n",
    "spark = SparkSession.builder \\\n",
    ".appName('log-analysis') \\\n",
    ".enableHiveSupport() \\\n",
    ".getOrCreate()\n",
    "\n",
    "\n",
    "# Путь в HDFS\n",
    "hdfs_path = 'logfiles.log'\n",
    "\n",
    "\n",
    "# Читаем как текст\n",
    "logs = spark.read.text(hdfs_path)\n",
    "\n",
    "\n",
    "# Парсим Common Log Format (пример регулярки)\n",
    "# Формат: host ident authuser [date] \"request\" status bytes\n",
    "host_re = r'^(\\S+)'\n",
    "request_re = r'\\\"(GET|POST|PUT|DELETE)\\s(\\S+)\\sHTTP/\\d.\\d\\\"'\n",
    "status_re = r'\\s(\\d{3})\\s'\n",
    "\n",
    "\n",
    "logs_parsed = logs.select(\n",
    "regexp_extract('value', host_re, 1).alias('host'),\n",
    "regexp_extract('value', request_re, 2).alias('path'),\n",
    "regexp_extract('value', status_re, 1).cast('integer').alias('status')\n",
    ")\n",
    "\n",
    "\n",
    "logs_parsed.createOrReplaceTempView('access_logs')\n",
    "\n",
    "\n",
    "# Примеры SQL-запросов\n",
    "q1 = spark.sql('SELECT status, count(*) as cnt FROM access_logs GROUP BY status ORDER BY cnt DESC')\n",
    "q2 = spark.sql(\"SELECT path, count(*) as hits FROM access_logs GROUP BY path ORDER BY hits DESC LIMIT 20\")\n",
    "\n",
    "\n",
    "q1.show()\n",
    "q2.show()\n",
    "\n",
    "\n",
    "# Сохранить результат в HDFS (CSV)\n",
    "q2.write.mode('overwrite').csv('hdfs://namenode:9000/jupyter/youruser/results/top_paths')\n",
    "\n",
    "\n",
    "spark.stop()"
   ]
  },
  {
   "cell_type": "code",
   "execution_count": null,
   "id": "b887597d-2491-4f9a-8223-a2061710e4d8",
   "metadata": {},
   "outputs": [],
   "source": []
  }
 ],
 "metadata": {
  "kernelspec": {
   "display_name": "Python 3 (ipykernel)",
   "language": "python",
   "name": "python3"
  },
  "language_info": {
   "codemirror_mode": {
    "name": "ipython",
    "version": 3
   },
   "file_extension": ".py",
   "mimetype": "text/x-python",
   "name": "python",
   "nbconvert_exporter": "python",
   "pygments_lexer": "ipython3",
   "version": "3.11.6"
  }
 },
 "nbformat": 4,
 "nbformat_minor": 5
}
